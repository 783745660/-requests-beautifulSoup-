{
 "cells": [
  {
   "cell_type": "code",
   "execution_count": null,
   "metadata": {},
   "outputs": [
    {
     "name": "stdout",
     "output_type": "stream",
     "text": [
      "Downing image from http://imgs.xkcd.com/comics/motivated_reasoning_olympics.png...\n",
      "Downing image from http://imgs.xkcd.com/comics/stack.png...\n",
      "Downing image from http://imgs.xkcd.com/comics/millennials.png...\n",
      "Downing image from http://imgs.xkcd.com/comics/glacier.png...\n",
      "Downing image from http://imgs.xkcd.com/comics/chernobyl.png...\n",
      "Downing image from http://imgs.xkcd.com/comics/literary_opinions.png...\n",
      "Downing image from http://imgs.xkcd.com/comics/an_apple_a_day.png...\n",
      "Downing image from http://imgs.xkcd.com/comics/ken_burns_theory.png...\n",
      "Downing image from http://imgs.xkcd.com/comics/comments.png...\n",
      "Downing image from http://imgs.xkcd.com/comics/qualifiers.png...\n",
      "Downing image from http://imgs.xkcd.com/comics/diploma_legal_notes.png...\n",
      "Downing image from http://imgs.xkcd.com/comics/ufo.png...\n",
      "Downing image from http://imgs.xkcd.com/comics/swimming.png...\n",
      "Downing image from http://imgs.xkcd.com/comics/motivation.png...\n",
      "Downing image from http://imgs.xkcd.com/comics/effects_of_high_altitude.png...\n",
      "Downing image from http://imgs.xkcd.com/comics/westerns.png...\n",
      "Downing image from http://imgs.xkcd.com/comics/a_b.png...\n",
      "Downing image from http://imgs.xkcd.com/comics/xkeyboarcd.png...\n",
      "Downing image from http://imgs.xkcd.com/comics/alternate_histories.png...\n",
      "Downing image from http://imgs.xkcd.com/comics/cubesat_launch.png...\n",
      "Downing image from http://imgs.xkcd.com/comics/appendicitis.png...\n",
      "Downing image from http://imgs.xkcd.com/comics/waiting_for_the_but.png...\n",
      "Downing image from http://imgs.xkcd.com/comics/heists_and_escapes.png...\n",
      "Downing image from http://imgs.xkcd.com/comics/adjusting_a_chair.png...\n",
      "Downing image from http://imgs.xkcd.com/comics/disk_usage.png...\n",
      "Downing image from http://imgs.xkcd.com/comics/dangerous_fields.png...\n",
      "Downing image from http://imgs.xkcd.com/comics/ui_vs_ux.png...\n",
      "Downing image from http://imgs.xkcd.com/comics/reinvent_the_wheel.png...\n",
      "Downing image from http://imgs.xkcd.com/comics/email_settings.png...\n",
      "Downing image from http://imgs.xkcd.com/comics/wanna_see_the_code.png...\n"
     ]
    }
   ],
   "source": [
    "import os,requests,bs4\n",
    "url = 'http://www.xkcd.com'\n",
    "ImagePath = os.path.join(os.getcwd(),'XkcdImage')  \n",
    "# os.makedirs(ImagePath)              #已经存在所有注释掉\n",
    "while not url.endswith('#'):               #第一个图片的href属性值为#\n",
    "    res = requests.get(url)                    #请求到当前页目标地址，返回一个目标响应对象\n",
    "    res.raise_for_status()                          #检测异常，是否请求成功\n",
    "    soup = bs4.BeautifulSoup(res.text)                  #解析当前页响应html字符串\n",
    "    comic_ls = soup.select('#comic img')                 #获得id=comic,class=img的元素列表\n",
    "    link = comic_ls[0].get('src')               #得到当前页漫画的连接\n",
    "    image_url ='http:'+ link                          #得到当前页漫画的url\n",
    "    image_res = requests.get(image_url)                  #获得图片\n",
    "    image_res.raise_for_status()                           #检测是否响应成功\n",
    "    print('Downing image from %s...'% image_url)                          #如果响应成功就打印出正在从图片的url获取图片\n",
    "    imageFile = open(os.path.join(ImagePath,os.path.basename(link)),'wb')         #以二进制创建一个图片文件\n",
    "    for chunk in image_res.iter_content(100000):          #图片的每100000字节为一段，分段写入图片文件中，以节省内存\n",
    "        imageFile.write(chunk)\n",
    "    imageFile.close()                                    #关闭写入后的图片文件\n",
    "        \n",
    "    href_ls = soup.select('a[rel=\"prev\"]')               #从当前页获取pre元素列表\n",
    "    prelink = href_ls[0].get('href')                     #找到pre元素的链接\n",
    "    url = 'http://www.xkcd.com/' + prelink               #获取前一个的url\n",
    "print('Done!')"
   ]
  },
  {
   "cell_type": "code",
   "execution_count": null,
   "metadata": {},
   "outputs": [],
   "source": []
  }
 ],
 "metadata": {
  "kernelspec": {
   "display_name": "Python 3",
   "language": "python",
   "name": "python3"
  },
  "language_info": {
   "codemirror_mode": {
    "name": "ipython",
    "version": 3
   },
   "file_extension": ".py",
   "mimetype": "text/x-python",
   "name": "python",
   "nbconvert_exporter": "python",
   "pygments_lexer": "ipython3",
   "version": "3.7.1"
  }
 },
 "nbformat": 4,
 "nbformat_minor": 2
}
